{
 "cells": [
  {
   "cell_type": "code",
   "execution_count": 1,
   "metadata": {},
   "outputs": [],
   "source": [
    "import mysql.connector\n",
    "import pandas as pd\n",
    "import numpy as np"
   ]
  },
  {
   "cell_type": "code",
   "execution_count": 2,
   "metadata": {},
   "outputs": [
    {
     "name": "stdout",
     "output_type": "stream",
     "text": [
      "File uploaded and table created successfully with batch insertion!\n"
     ]
    }
   ],
   "source": [
    "# Connect to MySQL\n",
    "connection = mysql.connector.connect(\n",
    "    host=\"localhost\",\n",
    "    user=\"root\",\n",
    "    password=\"!Riel5726\",\n",
    "    database=\"loans\"\n",
    ")\n",
    "\n",
    "cursor = connection.cursor()\n",
    "\n",
    "# Read the CSV file\n",
    "file_path = \"C:/Users/Riel Pienaar/Downloads/loans.csv\"\n",
    "df = pd.read_csv(file_path)\n",
    "\n",
    "# Get column names from the CSV\n",
    "columns = df.columns.tolist()\n",
    "\n",
    "# Replace NaN values with None (MySQL handles None as NULL)\n",
    "df = df.replace({np.nan: None})\n",
    "\n",
    "# Drop the table if it already exists\n",
    "table_name = \"my_table\"\n",
    "cursor.execute(f\"DROP TABLE IF EXISTS {table_name}\")\n",
    "\n",
    "# Create a new table with the same column names as the CSV\n",
    "create_table_sql = f\"CREATE TABLE {table_name} (id INT AUTO_INCREMENT PRIMARY KEY, \" + \", \".join([f\"{col} VARCHAR(255)\" for col in columns]) + \")\"\n",
    "cursor.execute(create_table_sql)\n",
    "\n",
    "# Create the SQL INSERT statement dynamically\n",
    "sql = f\"INSERT INTO {table_name} ({', '.join(columns)}) VALUES ({', '.join(['%s'] * len(columns))})\"\n",
    "\n",
    "# Batch size for batch insertion\n",
    "batch_size = 100  # Modify this if needed\n",
    "\n",
    "# Insert the data in batches\n",
    "for i in range(0, len(df), batch_size):\n",
    "    # Select rows in the current batch\n",
    "    batch_rows = df.iloc[i:i + batch_size]\n",
    "    # Convert batch rows to a list of tuples\n",
    "    values = [tuple(row) for row in batch_rows.to_numpy()]\n",
    "    # Execute many rows at once\n",
    "    cursor.executemany(sql, values)\n",
    "\n",
    "# Commit the transaction\n",
    "connection.commit()\n",
    "\n",
    "# Close the connection\n",
    "cursor.close()\n",
    "connection.close()\n",
    "\n",
    "print(\"File uploaded and table created successfully with batch insertion!\")"
   ]
  },
  {
   "cell_type": "code",
   "execution_count": null,
   "metadata": {},
   "outputs": [],
   "source": []
  }
 ],
 "metadata": {
  "kernelspec": {
   "display_name": "base",
   "language": "python",
   "name": "python3"
  },
  "language_info": {
   "codemirror_mode": {
    "name": "ipython",
    "version": 3
   },
   "file_extension": ".py",
   "mimetype": "text/x-python",
   "name": "python",
   "nbconvert_exporter": "python",
   "pygments_lexer": "ipython3",
   "version": "3.11.7"
  }
 },
 "nbformat": 4,
 "nbformat_minor": 2
}
